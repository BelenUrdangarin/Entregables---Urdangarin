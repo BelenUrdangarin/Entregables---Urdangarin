{
  "nbformat": 4,
  "nbformat_minor": 0,
  "metadata": {
    "colab": {
      "provenance": [],
      "authorship_tag": "ABX9TyORzA0Eh3y152O+HEGmpzMQ",
      "include_colab_link": true
    },
    "kernelspec": {
      "name": "python3",
      "display_name": "Python 3"
    },
    "language_info": {
      "name": "python"
    }
  },
  "cells": [
    {
      "cell_type": "markdown",
      "metadata": {
        "id": "view-in-github",
        "colab_type": "text"
      },
      "source": [
        "<a href=\"https://colab.research.google.com/github/BelenUrdangarin/Entregables---Urdangarin/blob/main/Notebook_9.ipynb\" target=\"_parent\"><img src=\"https://colab.research.google.com/assets/colab-badge.svg\" alt=\"Open In Colab\"/></a>"
      ]
    },
    {
      "cell_type": "markdown",
      "source": [
        "# Programa Ingenias+ Data Science"
      ],
      "metadata": {
        "id": "mO421grA3rUL"
      }
    },
    {
      "cell_type": "code",
      "execution_count": null,
      "metadata": {
        "id": "LzMx9HFR3ET1"
      },
      "outputs": [],
      "source": [
        "import pandas as pd\n",
        "import numpy as np\n",
        "import matplotlib.pyplot as plt\n",
        "import seaborn as sns\n",
        "from scipy import stats\n",
        "import sklearn"
      ]
    },
    {
      "cell_type": "markdown",
      "source": [
        "Ya dijimos previamente que un proyecto de data science tiene varias etapas:\n",
        "\n",
        "Recolección de Datos\n",
        "Exploración y Procesamiento de los datos\n",
        "Modelado\n",
        "Puesta en Producción\n",
        "En la clase anterior, hicimos el analisis exploratorio de los datos y pudimos observar el tipo de datos que teniamos. Pudimos hacernos preguntas y ver algunos patrones.\n",
        "\n",
        "Una vez que visualizamos y exploramos el dataset tenemos una idea de como lucen nuestros datos. Es por eso que ahora debemos empezar a preparar nuestros datos para los siguientes pasos según lo que aprendimos de ellos y las preguntas que nos planteamos."
      ],
      "metadata": {
        "id": "RxzzLKoE3-BA"
      }
    },
    {
      "cell_type": "code",
      "source": [
        "# Leemos nuevamente los datos del blackfriday\n",
        "blackfriday = pd.read_csv('black_friday_reducido.csv',sep = ';')\n",
        "blackfriday.head()"
      ],
      "metadata": {
        "id": "ljdCtb_k4DKQ"
      },
      "execution_count": null,
      "outputs": []
    },
    {
      "cell_type": "code",
      "source": [
        "blackfriday.shape"
      ],
      "metadata": {
        "id": "BIwz2ryt4JWI"
      },
      "execution_count": null,
      "outputs": []
    },
    {
      "cell_type": "markdown",
      "source": [
        "MANEJO DE DATOS FALTANTES 🚨\n",
        "\n",
        "\n",
        "\n",
        "\n",
        "\n",
        "\n",
        "Primero, vamos a recordar si tenemos datos faltantes."
      ],
      "metadata": {
        "id": "j4kATQlp4Nwp"
      }
    },
    {
      "cell_type": "code",
      "source": [
        "blackfriday.isna().sum()"
      ],
      "metadata": {
        "id": "8J0mw7AJ4K2-"
      },
      "execution_count": null,
      "outputs": []
    },
    {
      "cell_type": "markdown",
      "source": [
        "¿Cuanto representa esos valores faltantes?\n",
        "\n",
        "¿Que debo preguntarme al manejar datos faltantes?\n",
        "\n",
        "¿Quiero conservar la información?\n",
        "¿Qué tipo de datos tengo en la columna que voy a imputar?\n",
        "¿Por qué puede ser que tengo los valores faltantes?:\n",
        "Valores faltantes al azar\n",
        "Valores faltantes no al azar\n",
        "Si es una variable numerica continua, ¿Que distribución tiene?\n",
        "¿Como decido que hago con los valores faltantes?\n",
        "\n",
        "Entender que no hay una manera perfecta de manejar los valores faltantes.\n",
        "\n",
        "Depende de mis datos\n",
        "\n",
        "Observar no solo la cantidad de datos faltantes sino también su patrón.\n",
        "\n",
        "Estrategias:\n",
        "\n",
        "Eliminar los valores:\n",
        "Si la recogida de datos no se ha realizado de forma aleatoria introduce sesgo.\n",
        "\n",
        "En el caso de que haya mucho patrones con datos faltantes, podría reducir considerablemente la cantidad de filas disponibles.\n",
        "\n",
        "Eliminación de la variable (columna):\n",
        "\n",
        "Las variables “descartadas” podrían contener información de vital importancia.\n",
        "Imputar los valores:\n",
        "\n",
        "Sustituir por media o mediana: Solo en variables numericas\n",
        "\n",
        "Sustituir por valor mas frecuente: Util para variables categoricas\n",
        "\n",
        "Algoritmo de ML: K-NN (k-nearest neighboors)\n",
        "\n",
        "A) Si optamos por eliminar los datos, puedemos hacerlo usando la siguiente función:\n",
        "\n",
        ".dropna(self, axis=0, how='any', thresh=None, subset=None, inplace=False)\n",
        "\n",
        "axis: {0, 1}, default 0. 0: Filas, 1: Columnas\n",
        "\n",
        "how: {'any', 'all'}, default 'any'. Any: Si hay un valor faltante elimina la columna o fila.\n",
        "\n",
        "All: Si todos los valores de la fila o columna son faltantes, elimina la fila o columna.\n",
        "\n",
        "subset: Nombre de filas o columnas donde buscar valores faltantes\n",
        "\n",
        "inplace: True modifica el DataFrame original\n",
        "\n"
      ],
      "metadata": {
        "id": "Cf43fdYM4VG2"
      }
    },
    {
      "cell_type": "code",
      "source": [
        "blackfriday_drop = blackfriday.dropna() #Elimina la fila que tenga aunque sea un valor nulo y no modifica la base original"
      ],
      "metadata": {
        "id": "jsCU7MP14RXg"
      },
      "execution_count": null,
      "outputs": []
    },
    {
      "cell_type": "code",
      "source": [
        "blackfriday_drop.shape()"
      ],
      "metadata": {
        "id": "AWPbVyY74mmH"
      },
      "execution_count": null,
      "outputs": []
    },
    {
      "cell_type": "code",
      "source": [
        "blackfriday.dropna(how='all') #Elimina solo las filas que se encuentren con todos los valores vacios"
      ],
      "metadata": {
        "id": "UF0OdAWB4ol7"
      },
      "execution_count": null,
      "outputs": []
    },
    {
      "cell_type": "code",
      "source": [
        "blackfriday.dropna(subset=['Gender']) #Eliminas las filas donde la columna gender tenga un valor vacio"
      ],
      "metadata": {
        "id": "eEhp_L1n4uVY"
      },
      "execution_count": null,
      "outputs": []
    },
    {
      "cell_type": "code",
      "source": [
        "blackfriday.dropna(subset=['Age', 'Gender']) #Elimina las filas de las columnas age y gender que tengan valores vacios"
      ],
      "metadata": {
        "id": "-4NoE6cz4w8b"
      },
      "execution_count": null,
      "outputs": []
    },
    {
      "cell_type": "markdown",
      "source": [
        "B) Si optamos por imputar los datos, podemos hacerlo usando la siguiente función:\n",
        "\n",
        "sklearn.impute.SimpleImputer(missing_values=nan, strategy=’mean’, fill_value=None, copy=True, add_indicator=False)\n",
        "\n",
        "missing_values: Indica como son representados los valores faltantes (np.nan es el estandard)\n",
        "\n",
        "strategy: mean, median, most_frequent, constant.\n",
        "\n",
        "fill_value: Si uso constant, puedo usar fill_value para indicar por cuál valor debe ser reemplazado\n",
        "\n",
        "copy: Si pongo True, crea una copia de X\n",
        "\n",
        "add_indicator: Agrega un indicador para los valores faltantes. #Si es true devuelve una columna extra indicando donde fueron reemplazando los valores"
      ],
      "metadata": {
        "id": "BG2T-r8w40gm"
      }
    },
    {
      "cell_type": "code",
      "source": [
        "from sklearn.impute import SimpleImputer"
      ],
      "metadata": {
        "id": "_tKWeCE944Sb"
      },
      "execution_count": null,
      "outputs": []
    }
  ]
}