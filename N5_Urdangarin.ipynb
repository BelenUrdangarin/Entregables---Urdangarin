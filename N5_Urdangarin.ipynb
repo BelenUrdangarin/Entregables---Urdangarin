{
 "cells": [
  {
   "cell_type": "markdown",
   "metadata": {
    "id": "Gp2WddtV9IwG"
   },
   "source": [
    "# Programa Ingenias+ Data Science"
   ]
  },
  {
   "cell_type": "markdown",
   "metadata": {
    "id": "l1Ay3nSs9IwN"
   },
   "source": [
    "## Entrega notebook 5 - Urdangarin"
   ]
  },
  {
   "cell_type": "markdown",
   "metadata": {
    "id": "X03mviQS9IyL"
   },
   "source": [
    "# Ejercicios\n",
    "\n",
    "1. Crear un arreglo de ceros de longitud 12\n",
    "2. Crear un arreglo de longitud 10 con ceros en todas sus posiciones y un 10 en la posición número 5\n",
    "3. Crear un arreglo que tenga los números del 10 al 49\n",
    "4. Crear una arreglo 2d de shape (3, 3) que tenga los números del 0 al 8\n",
    "5. Crear un arreglo de números aleatorios de longitud 100 y obtener su media y varianza\n",
    "6. Calcular la media de un arreglo usando np.sum\n",
    "7. Calcular la varianza de un arreglo usando np.sum y np.mean\n",
    "8. Crear un array de números aleatorios usando np.random.randn.\n"
   ]
  },
  {
   "cell_type": "code",
   "execution_count": 2,
   "metadata": {
    "id": "pi3q1M-qqu3n"
   },
   "outputs": [],
   "source": [
    "# Importamos la biblioteca Numpy\n",
    "import numpy as np"
   ]
  },
  {
   "cell_type": "markdown",
   "metadata": {},
   "source": [
    "### _Ejercicio N°1_ - Crear un arreglo de ceros de longitud 12"
   ]
  },
  {
   "cell_type": "code",
   "execution_count": 6,
   "metadata": {},
   "outputs": [
    {
     "name": "stdout",
     "output_type": "stream",
     "text": [
      "[0. 0. 0. 0. 0. 0. 0. 0. 0. 0. 0. 0.]\n"
     ]
    },
    {
     "data": {
      "text/plain": [
       "12"
      ]
     },
     "execution_count": 6,
     "metadata": {},
     "output_type": "execute_result"
    }
   ],
   "source": [
    "Zo = np.zeros(12) #Creo un vector de ceros de longitud 12\n",
    "print (Zo)\n",
    "len (Zo)"
   ]
  },
  {
   "cell_type": "markdown",
   "metadata": {},
   "source": [
    "### _Ejercicio N°2_ - Crear un arreglo de ceros de longitud 10 y un 10 en la posicion número 5"
   ]
  },
  {
   "cell_type": "code",
   "execution_count": 10,
   "metadata": {},
   "outputs": [
    {
     "name": "stdout",
     "output_type": "stream",
     "text": [
      "[ 0.  0.  0.  0.  0. 10.  0.  0.  0.  0.]\n"
     ]
    },
    {
     "data": {
      "text/plain": [
       "10"
      ]
     },
     "execution_count": 10,
     "metadata": {},
     "output_type": "execute_result"
    }
   ],
   "source": [
    "z1 = np.zeros(10) #Creo un vector de ceros de longitud 10\n",
    "z1[5] = 10 #Propongo un nuevo valor para la ubicacion 5\n",
    "print(z1)\n",
    "len (z1)"
   ]
  },
  {
   "cell_type": "markdown",
   "metadata": {},
   "source": [
    "### _Ejercicio N°3_ - Crear un arreglo que tenga los números del 10 al 49"
   ]
  },
  {
   "cell_type": "code",
   "execution_count": 16,
   "metadata": {},
   "outputs": [
    {
     "name": "stdout",
     "output_type": "stream",
     "text": [
      "[10 11 12 13 14 15 16 17 18 19 20 21 22 23 24 25 26 27 28 29 30 31 32 33\n",
      " 34 35 36 37 38 39 40 41 42 43 44 45 46 47 48 49]\n"
     ]
    }
   ],
   "source": [
    "z2 = np.arange(10,50,1) #Devuelve numero simetricamente distribuidos segun los valores dados.\n",
    "print(z2)"
   ]
  },
  {
   "cell_type": "markdown",
   "metadata": {},
   "source": [
    "### _Ejercicio N°4_  -Crear una arreglo 2d de shape (3, 3) que tenga los números del 0 al 8"
   ]
  },
  {
   "cell_type": "code",
   "execution_count": 26,
   "metadata": {},
   "outputs": [
    {
     "name": "stdout",
     "output_type": "stream",
     "text": [
      "[[0 1 2]\n",
      " [3 4 5]\n",
      " [6 7 8]]\n"
     ]
    }
   ],
   "source": [
    "z3 =np.array([[0,1,2],\n",
    "             [3,4,5],\n",
    "             [6,7,8]]) #Esta es la forma tradicional pero no me gusta, hay que hacerlo mejor\n",
    "#print(z3.shape)\n",
    "z4 = np.arange(9).reshape(3,3)\n",
    "print(z4)"
   ]
  },
  {
   "cell_type": "markdown",
   "metadata": {},
   "source": [
    "### _Ejercicio N°5_ - Crear un arreglo de números aleatorios de longitud 100 y obtener su media y varianza"
   ]
  },
  {
   "cell_type": "code",
   "execution_count": 52,
   "metadata": {},
   "outputs": [
    {
     "name": "stdout",
     "output_type": "stream",
     "text": [
      "[860 618 323 290 283 760  76 858 908 557 829 974 221 762 662   6 764  31\n",
      " 173 402 524 289 485 344  37  19 989 309 307 442 356  63 354 280 854  12\n",
      "  86 693 930 192 691 546 147 532 209 160 121 823  17 881 987 806 147 915\n",
      " 123 214 895 700 888 965  33 749 418  70 388 887 318 910 157 149 394  53\n",
      " 715  53 544 346 796 511 856 161 117 279  48 907 113 315 756 476 595 763\n",
      " 509 213 672 303  88 862 118 330 445 800]\n",
      "459.06\n",
      "96712.29639999996\n"
     ]
    }
   ],
   "source": [
    "z5 = np.random.randint(0,1000,100)\n",
    "print (z5)\n",
    "z6 = np.mean(z5) #Funcion que calcula la media\n",
    "print(z6)\n",
    "z7 = np.var(z5) #Funcion que calcula la varianza\n",
    "print(z7)"
   ]
  },
  {
   "cell_type": "markdown",
   "metadata": {},
   "source": [
    "### _Ejercicio N°6_ - Calcular la media de un arreglo usando np.sum"
   ]
  },
  {
   "cell_type": "code",
   "execution_count": 53,
   "metadata": {},
   "outputs": [
    {
     "name": "stdout",
     "output_type": "stream",
     "text": [
      "[459.06]\n"
     ]
    }
   ],
   "source": [
    "le = z5.size\n",
    "Asum = (np.sum(z5)/[le])\n",
    "print(Asum)"
   ]
  },
  {
   "cell_type": "markdown",
   "metadata": {},
   "source": [
    "### _Ejercicio N°7_ - Calcular la varianza de un arreglo usando np.sum y np.mean"
   ]
  },
  {
   "cell_type": "code",
   "execution_count": 57,
   "metadata": {},
   "outputs": [
    {
     "name": "stdout",
     "output_type": "stream",
     "text": [
      "96712.29639999996\n"
     ]
    }
   ],
   "source": [
    "res = ((z5)- (np.mean(z5))) #Resta entre el valor del arreglo y la media\n",
    "Asum = np.sum(res**2) #Sumo esa resta al cuadrado\n",
    "Avar = (Asum)/z5.size #Divido para la cantidad de elementos\n",
    "print(Avar)"
   ]
  },
  {
   "cell_type": "markdown",
   "metadata": {},
   "source": [
    "### _Ejercicio N°8_ - Crear un array de números aleatorios usando np.random.randn."
   ]
  },
  {
   "cell_type": "code",
   "execution_count": 59,
   "metadata": {},
   "outputs": [
    {
     "name": "stdout",
     "output_type": "stream",
     "text": [
      "[ 2  5 15  3 10 12 12  8 19  6 19 15 12 18 15  6  7  4  0  2 19 14 19  6\n",
      " 16  1  0 16  2 11 14 13 19 11 14 19 11  9  5  5 12 16  4  8 11  7  7  5\n",
      "  9 12 19  9 10 17  7 15  0 16  3 19 15 11  5  0  7 13  5 13 14 18  4  4\n",
      "  2  2  5  8 12 14 16 10  4  2 10 14  4  4  8  2 18  8  2  6 11  3  8  5\n",
      " 16 11 10  5]\n"
     ]
    }
   ],
   "source": [
    "rand = np.random.randint(0,20,100)\n",
    "print(rand)"
   ]
  }
 ],
 "metadata": {
  "colab": {
   "provenance": []
  },
  "kernelspec": {
   "display_name": "Python 3 (ipykernel)",
   "language": "python",
   "name": "python3"
  },
  "language_info": {
   "codemirror_mode": {
    "name": "ipython",
    "version": 3
   },
   "file_extension": ".py",
   "mimetype": "text/x-python",
   "name": "python",
   "nbconvert_exporter": "python",
   "pygments_lexer": "ipython3",
   "version": "3.12.7"
  }
 },
 "nbformat": 4,
 "nbformat_minor": 4
}
